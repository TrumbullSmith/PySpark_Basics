{
 "cells": [
  {
   "cell_type": "code",
   "execution_count": 6,
   "metadata": {},
   "outputs": [
    {
     "name": "stdout",
     "output_type": "stream",
     "text": [
      "2.7.15\n"
     ]
    }
   ],
   "source": [
    "import findspark\n",
    "findspark.init()\n",
    "import pyspark\n",
    "import random\n",
    "import platform\n",
    "print(platform.python_version())"
   ]
  },
  {
   "cell_type": "code",
   "execution_count": 7,
   "metadata": {},
   "outputs": [
    {
     "data": {
      "text/plain": [
       "'/anaconda2/bin/python'"
      ]
     },
     "execution_count": 7,
     "metadata": {},
     "output_type": "execute_result"
    }
   ],
   "source": [
    "import sys\n",
    "sys.executable"
   ]
  },
  {
   "cell_type": "code",
   "execution_count": 8,
   "metadata": {},
   "outputs": [],
   "source": [
    "#configuring pyspark with two cores\n",
    "config = pyspark.SparkConf().set('spark.executor.memory', '1024M').set('spark.cores.max', '2')\\\n",
    "   .set('spark.port.maxRetries','200')\n",
    "sc = pyspark.SparkContext(appName=\"GettingStarted\", master='spark://polyp1:7077',conf = config )"
   ]
  },
  {
   "cell_type": "code",
   "execution_count": 4,
   "metadata": {
    "scrolled": true
   },
   "outputs": [
    {
     "name": "stdout",
     "output_type": "stream",
     "text": [
      "1000\n"
     ]
    }
   ],
   "source": [
    "#distributing a list of data across cores using spark\n",
    "num_samples = 1000\n",
    "data = range(0, num_samples)\n",
    "distributedData = sc.parallelize(data)\n",
    "\n",
    "#printing the number of data points distributed\n",
    "print distributedData.count()"
   ]
  },
  {
   "cell_type": "code",
   "execution_count": 5,
   "metadata": {},
   "outputs": [
    {
     "name": "stdout",
     "output_type": "stream",
     "text": [
      "[0, 1, 2, 3, 4, 5, 6, 7, 8, 9]\n",
      "[['even', 0], ['odd', -1], ['even', 2], ['odd', -3], ['even', 4], ['odd', -5], ['even', 6], ['odd', -7], ['even', 8], ['odd', -9]]\n",
      "[('even', 249500), ('odd', -250000)]\n"
     ]
    }
   ],
   "source": [
    "# print distributedData.take(10)\n",
    "\n",
    "def myMap(x):\n",
    "    if x%2 == 0:\n",
    "        return [\"even\",x]\n",
    "    else:\n",
    "        return [\"odd\",-x]\n",
    "    \n",
    "data2 = distributedData.map(myMap)   \n",
    "print distributedData.take(10)\n",
    "print data2.take(10)\n",
    "\n",
    "def add(x,y):\n",
    "    return x+y\n",
    "\n",
    "print data2.reduceByKey(add).collect()"
   ]
  },
  {
   "cell_type": "code",
   "execution_count": null,
   "metadata": {},
   "outputs": [],
   "source": []
  },
  {
   "cell_type": "code",
   "execution_count": 6,
   "metadata": {},
   "outputs": [],
   "source": [
    "sc.stop()"
   ]
  }
 ],
 "metadata": {
  "kernelspec": {
   "display_name": "Python 2",
   "language": "python",
   "name": "python2"
  },
  "language_info": {
   "codemirror_mode": {
    "name": "ipython",
    "version": 2
   },
   "file_extension": ".py",
   "mimetype": "text/x-python",
   "name": "python",
   "nbconvert_exporter": "python",
   "pygments_lexer": "ipython2",
   "version": "2.7.15"
  }
 },
 "nbformat": 4,
 "nbformat_minor": 2
}
